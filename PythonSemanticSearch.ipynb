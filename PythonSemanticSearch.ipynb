{
 "cells": [
  {
   "cell_type": "code",
   "execution_count": 2,
   "metadata": {},
   "outputs": [],
   "source": [
    "!pip install sentence_transformers --quiet\n",
    "!pip install faiss-cpu --quiet\n",
    "\n",
    "import pandas as pd\n",
    "import faiss\n",
    "from sentence_transformers import SentenceTransformer"
   ]
  },
  {
   "cell_type": "markdown",
   "metadata": {},
   "source": [
    "Loading the python packages data so I don't have to deal with LFS"
   ]
  },
  {
   "cell_type": "code",
   "execution_count": null,
   "metadata": {},
   "outputs": [],
   "source": [
    "tab1 = pd.read_csv('python_packages_part1.csv')\n",
    "tab2 = pd.read_csv('python_packages_part2.csv')\n",
    "tab3 = pd.read_csv('python_packages_part3.csv')\n",
    "tab4 = pd.read_csv('python_packages_part4.csv')\n",
    "tab5 = pd.read_csv('python_packages_part5.csv')\n",
    "\n",
    "python_packages = pd.concat([tab1, tab2, tab3, tab4, tab5])\n",
    "python_packages = python_packages.dropna(subset=['summary', 'name'])"
   ]
  },
  {
   "cell_type": "markdown",
   "metadata": {},
   "source": [
    "Actual embedding logic, super simple, just build a FAISS. Take 15 mins on my old macbook, with faiss GPU could be much faster"
   ]
  },
  {
   "cell_type": "code",
   "execution_count": 4,
   "metadata": {},
   "outputs": [
    {
     "data": {
      "application/vnd.jupyter.widget-view+json": {
       "model_id": "9a8db4f940a14229a38e2fa83ec268af",
       "version_major": 2,
       "version_minor": 0
      },
      "text/plain": [
       "Batches:   0%|          | 0/15235 [00:00<?, ?it/s]"
      ]
     },
     "metadata": {},
     "output_type": "display_data"
    }
   ],
   "source": [
    "model = SentenceTransformer('all-MiniLM-L6-v2', device='mps')\n",
    "summaries = python_packages['summary']\n",
    "names = python_packages['name']\n",
    "\n",
    "embeddings = model.encode(summaries.tolist(), show_progress_bar=True)"
   ]
  },
  {
   "cell_type": "code",
   "execution_count": 5,
   "metadata": {},
   "outputs": [],
   "source": [
    "# Create FAISS index\n",
    "index = faiss.IndexFlatIP(embeddings.shape[1])  # Inner product for cosine similarity\n",
    "faiss.normalize_L2(embeddings)  # Normalize for cosine similarity\n",
    "index.add(embeddings)"
   ]
  },
  {
   "cell_type": "markdown",
   "metadata": {},
   "source": [
    "Doing a query"
   ]
  },
  {
   "cell_type": "code",
   "execution_count": 6,
   "metadata": {},
   "outputs": [],
   "source": [
    "query_embedding = model.encode(['converting numbers into text'])\n",
    "faiss.normalize_L2(query_embedding)\n",
    "scores, indices = index.search(query_embedding, 10)"
   ]
  },
  {
   "cell_type": "code",
   "execution_count": 7,
   "metadata": {},
   "outputs": [
    {
     "data": {
      "text/plain": [
       "[('text2integer', 'Converts text to integers'),\n",
       " ('num2textilka', 'Number to Text Convertor'),\n",
       " ('number-writer', 'A small package to transform number into text'),\n",
       " ('wordtodigits', 'To convert numbers in word form to digits'),\n",
       " ('text-to-number', 'A package to convert text numbers into integers.'),\n",
       " ('convert-string-to-number', 'Convert string to number'),\n",
       " ('text2numb', 'Converts text into a numbers and back again.'),\n",
       " ('k3num', 'Convert number to human readable format in a string.'),\n",
       " ('aaqnumtowords', 'A Python package for converting numbers to text'),\n",
       " ('words2number',\n",
       "  'Convert sentences containing numbers written in words into numeric values.')]"
      ]
     },
     "execution_count": 7,
     "metadata": {},
     "output_type": "execute_result"
    }
   ],
   "source": [
    "list(zip(names.iloc[indices[0]], summaries.iloc[indices[0]]))"
   ]
  }
 ],
 "metadata": {
  "kernelspec": {
   "display_name": "Python 3",
   "language": "python",
   "name": "python3"
  },
  "language_info": {
   "codemirror_mode": {
    "name": "ipython",
    "version": 3
   },
   "file_extension": ".py",
   "mimetype": "text/x-python",
   "name": "python",
   "nbconvert_exporter": "python",
   "pygments_lexer": "ipython3",
   "version": "3.12.7"
  }
 },
 "nbformat": 4,
 "nbformat_minor": 2
}
